{
 "cells": [
  {
   "cell_type": "code",
   "execution_count": 1,
   "id": "04a9ed9f-d9d6-4e1b-8abe-fd824c754d8c",
   "metadata": {},
   "outputs": [],
   "source": [
    "from pyspark.sql import SparkSession\n",
    "from pyspark.sql.functions import *"
   ]
  },
  {
   "cell_type": "code",
   "execution_count": 3,
   "id": "14d5ce99-4174-40a6-b8fe-42209f032530",
   "metadata": {},
   "outputs": [
    {
     "name": "stderr",
     "output_type": "stream",
     "text": [
      "24/12/24 13:34:13 WARN SparkSession: Using an existing Spark session; only runtime SQL configurations will take effect.\n"
     ]
    }
   ],
   "source": [
    "spark=SparkSession.builder.appName(\"Ass1.1\").config(\"spark.sql.shuffle.partitions\",\"2\").getOrCreate()"
   ]
  },
  {
   "cell_type": "code",
   "execution_count": 4,
   "id": "e8ed00a3-fec0-411d-938b-71f1977daa23",
   "metadata": {},
   "outputs": [],
   "source": [
    "# #create spark session (Object of Spark)\n",
    "\n",
    "# spark=SparkSession.builder.appName(\"Ass1\").config(\"spark.sql.shuffle.partitions\",\"2\")\\\n",
    "#                    .getOrCreate()"
   ]
  },
  {
   "cell_type": "code",
   "execution_count": 5,
   "id": "69496a38-4f39-4bed-88d8-3153f30657ca",
   "metadata": {},
   "outputs": [],
   "source": [
    "# give option(\"header\",True) if csv file contain header line\n",
    "empSchema='empno int,ename string,job string,mgr int,hire date,sal double,comm double,deptno int'\n",
    "df=spark.read.schema(empSchema).csv('emp.csv')"
   ]
  },
  {
   "cell_type": "code",
   "execution_count": 6,
   "id": "58a584a5-a6e3-43a7-8e8f-377a35c32909",
   "metadata": {},
   "outputs": [
    {
     "name": "stdout",
     "output_type": "stream",
     "text": [
      "root\n",
      " |-- empno: integer (nullable = true)\n",
      " |-- ename: string (nullable = true)\n",
      " |-- job: string (nullable = true)\n",
      " |-- mgr: integer (nullable = true)\n",
      " |-- hire: date (nullable = true)\n",
      " |-- sal: double (nullable = true)\n",
      " |-- comm: double (nullable = true)\n",
      " |-- deptno: integer (nullable = true)\n",
      "\n"
     ]
    }
   ],
   "source": [
    "df.printSchema()"
   ]
  },
  {
   "cell_type": "code",
   "execution_count": 7,
   "id": "326119be-4b78-4236-8976-17f236aa3d6b",
   "metadata": {},
   "outputs": [
    {
     "name": "stdout",
     "output_type": "stream",
     "text": [
      "+-----+------+---------+----+----------+------+------+------+\n",
      "|empno| ename|      job| mgr|      hire|   sal|  comm|deptno|\n",
      "+-----+------+---------+----+----------+------+------+------+\n",
      "| 7369| SMITH|    CLERK|7902|1980-12-17| 800.0|  NULL|    20|\n",
      "| 7499| ALLEN| SALESMAN|7698|1981-02-20|1600.0| 300.0|    30|\n",
      "| 7521|  WARD| SALESMAN|7698|1981-02-22|1250.0| 500.0|    30|\n",
      "| 7566| JONES|  MANAGER|7839|1981-04-02|2975.0|  NULL|    20|\n",
      "| 7654|MARTIN| SALESMAN|7698|1981-09-28|1250.0|1400.0|    30|\n",
      "| 7698| BLAKE|  MANAGER|7839|1981-05-01|2850.0|  NULL|    30|\n",
      "| 7782| CLARK|  MANAGER|7839|1981-06-09|2450.0|  NULL|    10|\n",
      "| 7788| SCOTT|  ANALYST|7566|1982-12-09|3000.0|  NULL|    20|\n",
      "| 7839|  KING|PRESIDENT|NULL|1981-11-17|5000.0|  NULL|    10|\n",
      "| 7844|TURNER| SALESMAN|7698|1981-09-08|1500.0|   0.0|    30|\n",
      "| 7876| ADAMS|    CLERK|7788|1983-01-12|1100.0|  NULL|    20|\n",
      "| 7900| JAMES|    CLERK|7698|1981-12-03| 950.0|  NULL|    30|\n",
      "| 7902|  FORD|  ANALYST|7566|1981-12-03|3000.0|  NULL|    20|\n",
      "| 7934|MILLER|    CLERK|7782|1982-01-23|1300.0|  NULL|    10|\n",
      "+-----+------+---------+----+----------+------+------+------+\n",
      "\n"
     ]
    }
   ],
   "source": [
    "df.show()"
   ]
  },
  {
   "cell_type": "code",
   "execution_count": 8,
   "id": "6bae8b3c-e1c4-40be-8f84-cd0ec11202a1",
   "metadata": {},
   "outputs": [
    {
     "name": "stdout",
     "output_type": "stream",
     "text": [
      "+-----+------+---------+----+----------+------+------+------+---------+\n",
      "|empno| ename|      job| mgr|      hire|   sal|  comm|deptno|TottalSal|\n",
      "+-----+------+---------+----+----------+------+------+------+---------+\n",
      "| 7369| SMITH|    CLERK|7902|1980-12-17| 800.0|  NULL|    20|    800.0|\n",
      "| 7499| ALLEN| SALESMAN|7698|1981-02-20|1600.0| 300.0|    30|   1900.0|\n",
      "| 7521|  WARD| SALESMAN|7698|1981-02-22|1250.0| 500.0|    30|   1750.0|\n",
      "| 7566| JONES|  MANAGER|7839|1981-04-02|2975.0|  NULL|    20|   2975.0|\n",
      "| 7654|MARTIN| SALESMAN|7698|1981-09-28|1250.0|1400.0|    30|   2650.0|\n",
      "| 7698| BLAKE|  MANAGER|7839|1981-05-01|2850.0|  NULL|    30|   2850.0|\n",
      "| 7782| CLARK|  MANAGER|7839|1981-06-09|2450.0|  NULL|    10|   2450.0|\n",
      "| 7788| SCOTT|  ANALYST|7566|1982-12-09|3000.0|  NULL|    20|   3000.0|\n",
      "| 7839|  KING|PRESIDENT|NULL|1981-11-17|5000.0|  NULL|    10|   5000.0|\n",
      "| 7844|TURNER| SALESMAN|7698|1981-09-08|1500.0|   0.0|    30|   1500.0|\n",
      "| 7876| ADAMS|    CLERK|7788|1983-01-12|1100.0|  NULL|    20|   1100.0|\n",
      "| 7900| JAMES|    CLERK|7698|1981-12-03| 950.0|  NULL|    30|    950.0|\n",
      "| 7902|  FORD|  ANALYST|7566|1981-12-03|3000.0|  NULL|    20|   3000.0|\n",
      "| 7934|MILLER|    CLERK|7782|1982-01-23|1300.0|  NULL|    10|   1300.0|\n",
      "+-----+------+---------+----+----------+------+------+------+---------+\n",
      "\n"
     ]
    }
   ],
   "source": [
    "re=df.withColumn(\"TottalSal\",expr(\"sal + ifnull(comm,0)\"))\n",
    "re.show()"
   ]
  },
  {
   "cell_type": "code",
   "execution_count": 9,
   "id": "98f7ee91-8635-4622-84be-5f3b41c14382",
   "metadata": {},
   "outputs": [],
   "source": [
    "re=re.groupBy(\"deptno\",\"job\")\\\n",
    "      .agg(sum('sal'),min('sal'),max('sal'),avg(\"sal\"),sum(\"TottalSal\"))"
   ]
  },
  {
   "cell_type": "code",
   "execution_count": 10,
   "id": "9af76d52-1287-4921-9fed-6ed1903d53fd",
   "metadata": {},
   "outputs": [
    {
     "name": "stdout",
     "output_type": "stream",
     "text": [
      "+------+---------+--------+--------+--------+--------+--------------+\n",
      "|deptno|      job|sum(sal)|min(sal)|max(sal)|avg(sal)|sum(TottalSal)|\n",
      "+------+---------+--------+--------+--------+--------+--------------+\n",
      "|    30| SALESMAN|  5600.0|  1250.0|  1600.0|  1400.0|        7800.0|\n",
      "|    20|    CLERK|  1900.0|   800.0|  1100.0|   950.0|        1900.0|\n",
      "|    20|  MANAGER|  2975.0|  2975.0|  2975.0|  2975.0|        2975.0|\n",
      "|    30|  MANAGER|  2850.0|  2850.0|  2850.0|  2850.0|        2850.0|\n",
      "|    10|  MANAGER|  2450.0|  2450.0|  2450.0|  2450.0|        2450.0|\n",
      "|    20|  ANALYST|  6000.0|  3000.0|  3000.0|  3000.0|        6000.0|\n",
      "|    10|PRESIDENT|  5000.0|  5000.0|  5000.0|  5000.0|        5000.0|\n",
      "|    30|    CLERK|   950.0|   950.0|   950.0|   950.0|         950.0|\n",
      "|    10|    CLERK|  1300.0|  1300.0|  1300.0|  1300.0|        1300.0|\n",
      "+------+---------+--------+--------+--------+--------+--------------+\n",
      "\n"
     ]
    }
   ],
   "source": [
    "re.show()"
   ]
  },
  {
   "cell_type": "code",
   "execution_count": 11,
   "id": "1f137f19-95bb-4e3b-be89-7bafe788dc65",
   "metadata": {},
   "outputs": [
    {
     "name": "stdout",
     "output_type": "stream",
     "text": [
      "root\n",
      " |-- empno: integer (nullable = true)\n",
      " |-- ename: string (nullable = true)\n",
      " |-- job: string (nullable = true)\n",
      " |-- mgr: integer (nullable = true)\n",
      " |-- hire: date (nullable = true)\n",
      " |-- sal: double (nullable = true)\n",
      " |-- comm: double (nullable = true)\n",
      " |-- deptno: integer (nullable = true)\n",
      "\n"
     ]
    }
   ],
   "source": [
    "emp=spark.read.schema(empSchema).csv('emp.csv')\n",
    "emp.printSchema()"
   ]
  },
  {
   "cell_type": "code",
   "execution_count": 12,
   "id": "fe36a4aa-1471-4df1-ac14-aecb76e3230d",
   "metadata": {},
   "outputs": [
    {
     "name": "stdout",
     "output_type": "stream",
     "text": [
      "+-----+------+---------+----+----------+------+------+------+\n",
      "|empno| ename|      job| mgr|      hire|   sal|  comm|deptno|\n",
      "+-----+------+---------+----+----------+------+------+------+\n",
      "| 7369| SMITH|    CLERK|7902|1980-12-17| 800.0|  NULL|    20|\n",
      "| 7499| ALLEN| SALESMAN|7698|1981-02-20|1600.0| 300.0|    30|\n",
      "| 7521|  WARD| SALESMAN|7698|1981-02-22|1250.0| 500.0|    30|\n",
      "| 7566| JONES|  MANAGER|7839|1981-04-02|2975.0|  NULL|    20|\n",
      "| 7654|MARTIN| SALESMAN|7698|1981-09-28|1250.0|1400.0|    30|\n",
      "| 7698| BLAKE|  MANAGER|7839|1981-05-01|2850.0|  NULL|    30|\n",
      "| 7782| CLARK|  MANAGER|7839|1981-06-09|2450.0|  NULL|    10|\n",
      "| 7788| SCOTT|  ANALYST|7566|1982-12-09|3000.0|  NULL|    20|\n",
      "| 7839|  KING|PRESIDENT|NULL|1981-11-17|5000.0|  NULL|    10|\n",
      "| 7844|TURNER| SALESMAN|7698|1981-09-08|1500.0|   0.0|    30|\n",
      "| 7876| ADAMS|    CLERK|7788|1983-01-12|1100.0|  NULL|    20|\n",
      "| 7900| JAMES|    CLERK|7698|1981-12-03| 950.0|  NULL|    30|\n",
      "| 7902|  FORD|  ANALYST|7566|1981-12-03|3000.0|  NULL|    20|\n",
      "| 7934|MILLER|    CLERK|7782|1982-01-23|1300.0|  NULL|    10|\n",
      "+-----+------+---------+----+----------+------+------+------+\n",
      "\n"
     ]
    }
   ],
   "source": [
    "emp.show()"
   ]
  },
  {
   "cell_type": "code",
   "execution_count": 13,
   "id": "9fbf2dcd-79c2-4e31-a7d3-e1591bc5a602",
   "metadata": {},
   "outputs": [],
   "source": [
    "deptSchema=\"deptno int,dname string,city string\"\n",
    "dept=spark.read.schema(deptSchema).csv('dept.csv')"
   ]
  },
  {
   "cell_type": "code",
   "execution_count": 14,
   "id": "d27e9af3-8384-47bb-81e0-36a629df15ea",
   "metadata": {},
   "outputs": [
    {
     "name": "stdout",
     "output_type": "stream",
     "text": [
      "root\n",
      " |-- deptno: integer (nullable = true)\n",
      " |-- dname: string (nullable = true)\n",
      " |-- city: string (nullable = true)\n",
      "\n"
     ]
    }
   ],
   "source": [
    "dept.printSchema()"
   ]
  },
  {
   "cell_type": "code",
   "execution_count": 15,
   "id": "f1de0c4d-650e-4a71-b78c-44f6fce42d36",
   "metadata": {},
   "outputs": [
    {
     "name": "stdout",
     "output_type": "stream",
     "text": [
      "+------+----------+--------+\n",
      "|deptno|     dname|    city|\n",
      "+------+----------+--------+\n",
      "|    10|ACCOUNTING|NEW YORK|\n",
      "|    20|  RESEARCH|  DALLAS|\n",
      "|    30|     SALES| CHICAGO|\n",
      "|    40|OPERATIONS|  BOSTON|\n",
      "+------+----------+--------+\n",
      "\n"
     ]
    }
   ],
   "source": [
    "dept.show()"
   ]
  },
  {
   "cell_type": "code",
   "execution_count": 16,
   "id": "5550a769-c08d-4148-8b4f-8d6524231d35",
   "metadata": {},
   "outputs": [],
   "source": [
    "j1=emp.join(dept,emp.deptno==dept.deptno)"
   ]
  },
  {
   "cell_type": "code",
   "execution_count": 17,
   "id": "c13f34b7-6f68-4b10-b516-74512868f21b",
   "metadata": {},
   "outputs": [
    {
     "name": "stdout",
     "output_type": "stream",
     "text": [
      "+-----+------+---------+----+----------+------+------+------+------+----------+--------+\n",
      "|empno| ename|      job| mgr|      hire|   sal|  comm|deptno|deptno|     dname|    city|\n",
      "+-----+------+---------+----+----------+------+------+------+------+----------+--------+\n",
      "| 7369| SMITH|    CLERK|7902|1980-12-17| 800.0|  NULL|    20|    20|  RESEARCH|  DALLAS|\n",
      "| 7499| ALLEN| SALESMAN|7698|1981-02-20|1600.0| 300.0|    30|    30|     SALES| CHICAGO|\n",
      "| 7521|  WARD| SALESMAN|7698|1981-02-22|1250.0| 500.0|    30|    30|     SALES| CHICAGO|\n",
      "| 7566| JONES|  MANAGER|7839|1981-04-02|2975.0|  NULL|    20|    20|  RESEARCH|  DALLAS|\n",
      "| 7654|MARTIN| SALESMAN|7698|1981-09-28|1250.0|1400.0|    30|    30|     SALES| CHICAGO|\n",
      "| 7698| BLAKE|  MANAGER|7839|1981-05-01|2850.0|  NULL|    30|    30|     SALES| CHICAGO|\n",
      "| 7782| CLARK|  MANAGER|7839|1981-06-09|2450.0|  NULL|    10|    10|ACCOUNTING|NEW YORK|\n",
      "| 7788| SCOTT|  ANALYST|7566|1982-12-09|3000.0|  NULL|    20|    20|  RESEARCH|  DALLAS|\n",
      "| 7839|  KING|PRESIDENT|NULL|1981-11-17|5000.0|  NULL|    10|    10|ACCOUNTING|NEW YORK|\n",
      "| 7844|TURNER| SALESMAN|7698|1981-09-08|1500.0|   0.0|    30|    30|     SALES| CHICAGO|\n",
      "| 7876| ADAMS|    CLERK|7788|1983-01-12|1100.0|  NULL|    20|    20|  RESEARCH|  DALLAS|\n",
      "| 7900| JAMES|    CLERK|7698|1981-12-03| 950.0|  NULL|    30|    30|     SALES| CHICAGO|\n",
      "| 7902|  FORD|  ANALYST|7566|1981-12-03|3000.0|  NULL|    20|    20|  RESEARCH|  DALLAS|\n",
      "| 7934|MILLER|    CLERK|7782|1982-01-23|1300.0|  NULL|    10|    10|ACCOUNTING|NEW YORK|\n",
      "+-----+------+---------+----+----------+------+------+------+------+----------+--------+\n",
      "\n"
     ]
    }
   ],
   "source": [
    "j1.show()"
   ]
  },
  {
   "cell_type": "code",
   "execution_count": 18,
   "id": "e005ec18-6245-4d4b-9fa4-d4ac4521140a",
   "metadata": {},
   "outputs": [
    {
     "name": "stdout",
     "output_type": "stream",
     "text": [
      "+------+-----+------+---------+----+----------+------+------+----------+--------+\n",
      "|deptno|empno| ename|      job| mgr|      hire|   sal|  comm|     dname|    city|\n",
      "+------+-----+------+---------+----+----------+------+------+----------+--------+\n",
      "|    20| 7369| SMITH|    CLERK|7902|1980-12-17| 800.0|  NULL|  RESEARCH|  DALLAS|\n",
      "|    30| 7499| ALLEN| SALESMAN|7698|1981-02-20|1600.0| 300.0|     SALES| CHICAGO|\n",
      "|    30| 7521|  WARD| SALESMAN|7698|1981-02-22|1250.0| 500.0|     SALES| CHICAGO|\n",
      "|    20| 7566| JONES|  MANAGER|7839|1981-04-02|2975.0|  NULL|  RESEARCH|  DALLAS|\n",
      "|    30| 7654|MARTIN| SALESMAN|7698|1981-09-28|1250.0|1400.0|     SALES| CHICAGO|\n",
      "|    30| 7698| BLAKE|  MANAGER|7839|1981-05-01|2850.0|  NULL|     SALES| CHICAGO|\n",
      "|    10| 7782| CLARK|  MANAGER|7839|1981-06-09|2450.0|  NULL|ACCOUNTING|NEW YORK|\n",
      "|    20| 7788| SCOTT|  ANALYST|7566|1982-12-09|3000.0|  NULL|  RESEARCH|  DALLAS|\n",
      "|    10| 7839|  KING|PRESIDENT|NULL|1981-11-17|5000.0|  NULL|ACCOUNTING|NEW YORK|\n",
      "|    30| 7844|TURNER| SALESMAN|7698|1981-09-08|1500.0|   0.0|     SALES| CHICAGO|\n",
      "|    20| 7876| ADAMS|    CLERK|7788|1983-01-12|1100.0|  NULL|  RESEARCH|  DALLAS|\n",
      "|    30| 7900| JAMES|    CLERK|7698|1981-12-03| 950.0|  NULL|     SALES| CHICAGO|\n",
      "|    20| 7902|  FORD|  ANALYST|7566|1981-12-03|3000.0|  NULL|  RESEARCH|  DALLAS|\n",
      "|    10| 7934|MILLER|    CLERK|7782|1982-01-23|1300.0|  NULL|ACCOUNTING|NEW YORK|\n",
      "+------+-----+------+---------+----+----------+------+------+----------+--------+\n",
      "\n"
     ]
    }
   ],
   "source": [
    "j2=emp.join(dept,'deptno')\n",
    "j2.show()"
   ]
  },
  {
   "cell_type": "code",
   "execution_count": 19,
   "id": "5dd23d83-b311-4263-91cb-ee2e9ec66082",
   "metadata": {},
   "outputs": [
    {
     "name": "stdout",
     "output_type": "stream",
     "text": [
      "+------+--------+\n",
      "|deptno|sum(sal)|\n",
      "+------+--------+\n",
      "|    10|  8750.0|\n",
      "|    20| 10875.0|\n",
      "|    30|  9400.0|\n",
      "+------+--------+\n",
      "\n"
     ]
    }
   ],
   "source": [
    "# Getting Department wise total Salary\n",
    "emp.groupBy('deptno').sum('sal').show()"
   ]
  },
  {
   "cell_type": "code",
   "execution_count": 20,
   "id": "421d9cb3-e312-491c-a9ed-3979246fa7f7",
   "metadata": {},
   "outputs": [
    {
     "name": "stdout",
     "output_type": "stream",
     "text": [
      "+---------+--------+\n",
      "|      JOB|sum(sAl)|\n",
      "+---------+--------+\n",
      "|    CLERK|  4150.0|\n",
      "| SALESMAN|  5600.0|\n",
      "|  MANAGER|  8275.0|\n",
      "|PRESIDENT|  5000.0|\n",
      "|  ANALYST|  6000.0|\n",
      "+---------+--------+\n",
      "\n"
     ]
    }
   ],
   "source": [
    "# Getting Job wise Total Salary\n",
    "emp.groupBy('JOB').sum('sAl').show()"
   ]
  },
  {
   "cell_type": "code",
   "execution_count": 21,
   "id": "53a45594-c82f-464c-a087-64000307ab6c",
   "metadata": {},
   "outputs": [
    {
     "name": "stdout",
     "output_type": "stream",
     "text": [
      "+----------+--------+\n",
      "|     dname|TotalSal|\n",
      "+----------+--------+\n",
      "|ACCOUNTING|  8750.0|\n",
      "|  RESEARCH| 10875.0|\n",
      "|     SALES|  9400.0|\n",
      "+----------+--------+\n",
      "\n"
     ]
    }
   ],
   "source": [
    "emp.groupBy('deptno').sum('sal').withColumnRenamed('sum(sAl)',\"TotalSal\")\\\n",
    "    .join(dept,'deptno').select('dname','TotalSal').show()"
   ]
  },
  {
   "cell_type": "code",
   "execution_count": null,
   "id": "4fe6a54e-75ec-46db-bf90-1f1c8d9337e4",
   "metadata": {},
   "outputs": [],
   "source": []
  },
  {
   "cell_type": "code",
   "execution_count": 64,
   "id": "fa8914ce-d2db-44ce-96c5-46f8ee354d3d",
   "metadata": {},
   "outputs": [],
   "source": [
    "#loading Movies Data \n",
    "# movie=spark.read"
   ]
  },
  {
   "cell_type": "code",
   "execution_count": null,
   "id": "8264a4a5-a40a-4555-90fa-950e1c6a3fc7",
   "metadata": {},
   "outputs": [],
   "source": []
  },
  {
   "cell_type": "code",
   "execution_count": 91,
   "id": "6d7db4e6-8aa2-4a60-b1cd-dd0b1212986d",
   "metadata": {},
   "outputs": [],
   "source": [
    "ratingpath=\"/Users/shreyashhagwane/Documents/Python/Data_Science/Spark/movies/ratings.csv\"\n",
    "# ratingSchema=\"userId int,movieId int,rating double,timestamp timestamp\"\n",
    "# rating=spark.read.schema(ratingSchema).option(\"header\",True).csv(ratingpath)\n",
    " # the above code does not work\n",
    "\n",
    "\n",
    "rating=spark.read.option(\"header\",True).option(\"inferSchema\",True).csv(ratingpath)\n",
    "\n",
    "\n"
   ]
  },
  {
   "cell_type": "code",
   "execution_count": 54,
   "id": "24c56129-9f57-4d9e-aa6b-2655c2bd15e1",
   "metadata": {},
   "outputs": [
    {
     "name": "stdout",
     "output_type": "stream",
     "text": [
      "root\n",
      " |-- userId: integer (nullable = true)\n",
      " |-- movieId: integer (nullable = true)\n",
      " |-- rating: double (nullable = true)\n",
      " |-- timestamp: integer (nullable = true)\n",
      "\n"
     ]
    }
   ],
   "source": [
    "rating.printSchema()"
   ]
  },
  {
   "cell_type": "code",
   "execution_count": 55,
   "id": "b9d973c0-4299-4893-b662-62a68a9ee32f",
   "metadata": {},
   "outputs": [
    {
     "name": "stdout",
     "output_type": "stream",
     "text": [
      "+------+-------+------+----------+\n",
      "|userId|movieId|rating| timestamp|\n",
      "+------+-------+------+----------+\n",
      "|     1|     31|   2.5|1260759144|\n",
      "|     1|   1029|   3.0|1260759179|\n",
      "|     1|   1061|   3.0|1260759182|\n",
      "|     1|   1129|   2.0|1260759185|\n",
      "|     1|   1172|   4.0|1260759205|\n",
      "|     1|   1263|   2.0|1260759151|\n",
      "|     1|   1287|   2.0|1260759187|\n",
      "|     1|   1293|   2.0|1260759148|\n",
      "|     1|   1339|   3.5|1260759125|\n",
      "|     1|   1343|   2.0|1260759131|\n",
      "|     1|   1371|   2.5|1260759135|\n",
      "|     1|   1405|   1.0|1260759203|\n",
      "|     1|   1953|   4.0|1260759191|\n",
      "|     1|   2105|   4.0|1260759139|\n",
      "|     1|   2150|   3.0|1260759194|\n",
      "|     1|   2193|   2.0|1260759198|\n",
      "|     1|   2294|   2.0|1260759108|\n",
      "|     1|   2455|   2.5|1260759113|\n",
      "|     1|   2968|   1.0|1260759200|\n",
      "|     1|   3671|   3.0|1260759117|\n",
      "+------+-------+------+----------+\n",
      "only showing top 20 rows\n",
      "\n"
     ]
    }
   ],
   "source": [
    "rating.show()"
   ]
  },
  {
   "cell_type": "code",
   "execution_count": 63,
   "id": "31608df3-a3ce-4998-9841-0592c67999a8",
   "metadata": {},
   "outputs": [
    {
     "name": "stdout",
     "output_type": "stream",
     "text": [
      "root\n",
      " |-- tt: string (nullable = true)\n",
      "\n"
     ]
    }
   ],
   "source": [
    "# course_df5 has all the column datatypes as string \n",
    "\n",
    "# spark.sql(''' \n",
    "# SELECT  \n",
    "#   Name, \n",
    "#   Course_Name, \n",
    "#   INT(Duration_Months), \n",
    "#   FLOAT(Course_Fees), \n",
    "#   DATE(Start_Date), \n",
    "#   BOOLEAN(Payment_Done) \n",
    "# FROM course_view \n",
    "# ''') \n",
    "\n",
    "rating.createOrReplaceTempView(\"temp_v\") \n",
    "\n",
    "temp = spark.sql(''' \n",
    "Select from_unixtime(timestamp) tt from temp_v\n",
    "''') \n",
    "\n",
    "temp.printSchema()\n"
   ]
  },
  {
   "cell_type": "code",
   "execution_count": 64,
   "id": "fc09e088-890d-48e4-8602-8a049b2aefc8",
   "metadata": {},
   "outputs": [
    {
     "name": "stdout",
     "output_type": "stream",
     "text": [
      "+-------------------+\n",
      "|                 tt|\n",
      "+-------------------+\n",
      "|2009-12-14 08:22:24|\n",
      "|2009-12-14 08:22:59|\n",
      "|2009-12-14 08:23:02|\n",
      "|2009-12-14 08:23:05|\n",
      "|2009-12-14 08:23:25|\n",
      "|2009-12-14 08:22:31|\n",
      "|2009-12-14 08:23:07|\n",
      "|2009-12-14 08:22:28|\n",
      "|2009-12-14 08:22:05|\n",
      "|2009-12-14 08:22:11|\n",
      "|2009-12-14 08:22:15|\n",
      "|2009-12-14 08:23:23|\n",
      "|2009-12-14 08:23:11|\n",
      "|2009-12-14 08:22:19|\n",
      "|2009-12-14 08:23:14|\n",
      "|2009-12-14 08:23:18|\n",
      "|2009-12-14 08:21:48|\n",
      "|2009-12-14 08:21:53|\n",
      "|2009-12-14 08:23:20|\n",
      "|2009-12-14 08:21:57|\n",
      "+-------------------+\n",
      "only showing top 20 rows\n",
      "\n"
     ]
    }
   ],
   "source": [
    "temp.show()"
   ]
  },
  {
   "cell_type": "code",
   "execution_count": null,
   "id": "6c82013e-1697-47ff-8d1a-97f2fe9826d8",
   "metadata": {},
   "outputs": [],
   "source": []
  },
  {
   "cell_type": "code",
   "execution_count": 76,
   "id": "44784ce8-5f5a-4d57-a7f9-c0a9ff786844",
   "metadata": {},
   "outputs": [
    {
     "name": "stdout",
     "output_type": "stream",
     "text": [
      "+-------------------+\n",
      "|               Time|\n",
      "+-------------------+\n",
      "|2009-12-14 08:22:24|\n",
      "|2009-12-14 08:22:59|\n",
      "|2009-12-14 08:23:02|\n",
      "|2009-12-14 08:23:05|\n",
      "|2009-12-14 08:23:25|\n",
      "|2009-12-14 08:22:31|\n",
      "|2009-12-14 08:23:07|\n",
      "|2009-12-14 08:22:28|\n",
      "|2009-12-14 08:22:05|\n",
      "|2009-12-14 08:22:11|\n",
      "|2009-12-14 08:22:15|\n",
      "|2009-12-14 08:23:23|\n",
      "|2009-12-14 08:23:11|\n",
      "|2009-12-14 08:22:19|\n",
      "|2009-12-14 08:23:14|\n",
      "|2009-12-14 08:23:18|\n",
      "|2009-12-14 08:21:48|\n",
      "|2009-12-14 08:21:53|\n",
      "|2009-12-14 08:23:20|\n",
      "|2009-12-14 08:21:57|\n",
      "+-------------------+\n",
      "only showing top 20 rows\n",
      "\n"
     ]
    }
   ],
   "source": [
    "# ALTERNATE WAY TO CHANGE THE DATATYPE OF COLUMN IN SPARK\n",
    "\n",
    "rating.selectExpr(\"from_unixtime(timestamp) as Time\").select(\"Time\").show()\n"
   ]
  },
  {
   "cell_type": "code",
   "execution_count": 94,
   "id": "84e25af1-2a97-4f4e-893e-303182ddf683",
   "metadata": {},
   "outputs": [],
   "source": [
    "# Replacing the timestamp with new Timestamp with Datatype as TimeStamp\n",
    "newrating=rating.withColumn(\"TimeStamp\",expr(\"from_unixtime(timestamp)\"))\\\n",
    "             .withColumn(\"Year\",expr(\"year(TimeStamp)\"))\n",
    "\n"
   ]
  },
  {
   "cell_type": "code",
   "execution_count": 97,
   "id": "23f0f729-1587-427f-b175-648659042235",
   "metadata": {},
   "outputs": [
    {
     "name": "stdout",
     "output_type": "stream",
     "text": [
      "+------+-------+------+-------------------+----+\n",
      "|userId|movieId|rating|          TimeStamp|Year|\n",
      "+------+-------+------+-------------------+----+\n",
      "|     1|     31|   2.5|2009-12-14 08:22:24|2009|\n",
      "|     1|   1029|   3.0|2009-12-14 08:22:59|2009|\n",
      "|     1|   1061|   3.0|2009-12-14 08:23:02|2009|\n",
      "|     1|   1129|   2.0|2009-12-14 08:23:05|2009|\n",
      "|     1|   1172|   4.0|2009-12-14 08:23:25|2009|\n",
      "|     1|   1263|   2.0|2009-12-14 08:22:31|2009|\n",
      "|     1|   1287|   2.0|2009-12-14 08:23:07|2009|\n",
      "|     1|   1293|   2.0|2009-12-14 08:22:28|2009|\n",
      "|     1|   1339|   3.5|2009-12-14 08:22:05|2009|\n",
      "|     1|   1343|   2.0|2009-12-14 08:22:11|2009|\n",
      "|     1|   1371|   2.5|2009-12-14 08:22:15|2009|\n",
      "|     1|   1405|   1.0|2009-12-14 08:23:23|2009|\n",
      "|     1|   1953|   4.0|2009-12-14 08:23:11|2009|\n",
      "|     1|   2105|   4.0|2009-12-14 08:22:19|2009|\n",
      "|     1|   2150|   3.0|2009-12-14 08:23:14|2009|\n",
      "|     1|   2193|   2.0|2009-12-14 08:23:18|2009|\n",
      "|     1|   2294|   2.0|2009-12-14 08:21:48|2009|\n",
      "|     1|   2455|   2.5|2009-12-14 08:21:53|2009|\n",
      "|     1|   2968|   1.0|2009-12-14 08:23:20|2009|\n",
      "|     1|   3671|   3.0|2009-12-14 08:21:57|2009|\n",
      "+------+-------+------+-------------------+----+\n",
      "only showing top 20 rows\n",
      "\n"
     ]
    }
   ],
   "source": [
    "newrating.show()"
   ]
  },
  {
   "cell_type": "code",
   "execution_count": 100,
   "id": "e817dbcc-b7c4-473d-a7e9-108c36dd29a9",
   "metadata": {},
   "outputs": [
    {
     "name": "stdout",
     "output_type": "stream",
     "text": [
      "+----+-----+\n",
      "|Year|count|\n",
      "+----+-----+\n",
      "|2009| 3432|\n",
      "|1996| 6239|\n",
      "|1999| 5901|\n",
      "|2004| 4658|\n",
      "|2003| 4463|\n",
      "|2016| 6225|\n",
      "|2010| 2520|\n",
      "|1998| 1825|\n",
      "|2011| 4449|\n",
      "|2000|13869|\n",
      "|2006| 7493|\n",
      "|2005| 7161|\n",
      "|2014| 2224|\n",
      "|2012| 3850|\n",
      "|2001| 4658|\n",
      "|2002| 3937|\n",
      "|2007| 1548|\n",
      "|2013| 1969|\n",
      "|2015| 6610|\n",
      "|2008| 3676|\n",
      "+----+-----+\n",
      "only showing top 20 rows\n",
      "\n"
     ]
    }
   ],
   "source": [
    "newrating.groupby('Year').count().show()"
   ]
  },
  {
   "cell_type": "code",
   "execution_count": 102,
   "id": "ec74f9d6-c9f7-418f-8066-e17ecf9ba5aa",
   "metadata": {},
   "outputs": [],
   "source": [
    "# getting movies data\n",
    "moviepath=\"/Users/shreyashhagwane/Documents/Python/Data_Science/Spark/movies/movies.csv\"\n",
    "movieSchema=\"movieId int,title string,genres string\"\n",
    "movie=spark.read.schema(movieSchema).option(\"header\",True).csv(moviepath)"
   ]
  },
  {
   "cell_type": "code",
   "execution_count": 104,
   "id": "7eec5724-5521-4c9a-93cd-e598f6b31c14",
   "metadata": {},
   "outputs": [
    {
     "name": "stdout",
     "output_type": "stream",
     "text": [
      "root\n",
      " |-- movieId: integer (nullable = true)\n",
      " |-- title: string (nullable = true)\n",
      " |-- genres: string (nullable = true)\n",
      "\n"
     ]
    }
   ],
   "source": [
    "movie.printSchema()"
   ]
  },
  {
   "cell_type": "code",
   "execution_count": 105,
   "id": "7abd0565-d81d-4372-90b6-8a2282c7f24b",
   "metadata": {},
   "outputs": [
    {
     "name": "stdout",
     "output_type": "stream",
     "text": [
      "+-------+--------------------+--------------------+\n",
      "|movieId|               title|              genres|\n",
      "+-------+--------------------+--------------------+\n",
      "|      1|    Toy Story (1995)|Adventure|Animati...|\n",
      "|      2|      Jumanji (1995)|Adventure|Childre...|\n",
      "|      3|Grumpier Old Men ...|      Comedy|Romance|\n",
      "|      4|Waiting to Exhale...|Comedy|Drama|Romance|\n",
      "|      5|Father of the Bri...|              Comedy|\n",
      "|      6|         Heat (1995)|Action|Crime|Thri...|\n",
      "|      7|      Sabrina (1995)|      Comedy|Romance|\n",
      "|      8| Tom and Huck (1995)|  Adventure|Children|\n",
      "|      9| Sudden Death (1995)|              Action|\n",
      "|     10|    GoldenEye (1995)|Action|Adventure|...|\n",
      "|     11|American Presiden...|Comedy|Drama|Romance|\n",
      "|     12|Dracula: Dead and...|       Comedy|Horror|\n",
      "|     13|        Balto (1995)|Adventure|Animati...|\n",
      "|     14|        Nixon (1995)|               Drama|\n",
      "|     15|Cutthroat Island ...|Action|Adventure|...|\n",
      "|     16|       Casino (1995)|         Crime|Drama|\n",
      "|     17|Sense and Sensibi...|       Drama|Romance|\n",
      "|     18|   Four Rooms (1995)|              Comedy|\n",
      "|     19|Ace Ventura: When...|              Comedy|\n",
      "|     20|  Money Train (1995)|Action|Comedy|Cri...|\n",
      "+-------+--------------------+--------------------+\n",
      "only showing top 20 rows\n",
      "\n"
     ]
    }
   ],
   "source": [
    "movie.show()"
   ]
  },
  {
   "cell_type": "code",
   "execution_count": 106,
   "id": "1c6ee445-2e5f-456a-8567-4308d57adbaf",
   "metadata": {},
   "outputs": [
    {
     "data": {
      "text/plain": [
       "Row(userId=1, movieId=31, rating=2.5, TimeStamp='2009-12-14 08:22:24', Year=2009)"
      ]
     },
     "execution_count": 106,
     "metadata": {},
     "output_type": "execute_result"
    }
   ],
   "source": [
    "newrating.first()"
   ]
  },
  {
   "cell_type": "code",
   "execution_count": 107,
   "id": "e9d4479f-3b26-40f3-9053-49c29a06b357",
   "metadata": {},
   "outputs": [],
   "source": [
    "newrating.createOrReplaceTempView(\"rating_v\")\n",
    "\n",
    "temp=spark.sql(\"Select month(TimeStamp) Mon,count(rating) from rating_v group by Mon\")"
   ]
  },
  {
   "cell_type": "code",
   "execution_count": 108,
   "id": "b188799b-2ae0-40fa-8afc-bddfdcdb3d41",
   "metadata": {},
   "outputs": [
    {
     "name": "stdout",
     "output_type": "stream",
     "text": [
      "+---+-------------+\n",
      "|Mon|count(rating)|\n",
      "+---+-------------+\n",
      "| 12|         9693|\n",
      "|  2|         6921|\n",
      "| 10|         8126|\n",
      "|  4|         9388|\n",
      "|  5|         8416|\n",
      "|  6|         8869|\n",
      "|  3|         7243|\n",
      "| 11|        11331|\n",
      "|  8|         8640|\n",
      "|  9|         6029|\n",
      "|  7|         7653|\n",
      "|  1|         7695|\n",
      "+---+-------------+\n",
      "\n"
     ]
    }
   ],
   "source": [
    "# no. movies rating per month\n",
    "temp.show()"
   ]
  },
  {
   "cell_type": "code",
   "execution_count": 109,
   "id": "5026a3fa-6347-422d-afb1-6a1899cf3c72",
   "metadata": {},
   "outputs": [
    {
     "name": "stdout",
     "output_type": "stream",
     "text": [
      "+------+-------+------+-------------------+----+\n",
      "|userId|movieId|rating|          TimeStamp|Year|\n",
      "+------+-------+------+-------------------+----+\n",
      "|     1|     31|   2.5|2009-12-14 08:22:24|2009|\n",
      "|     1|   1029|   3.0|2009-12-14 08:22:59|2009|\n",
      "|     1|   1061|   3.0|2009-12-14 08:23:02|2009|\n",
      "|     1|   1129|   2.0|2009-12-14 08:23:05|2009|\n",
      "|     1|   1172|   4.0|2009-12-14 08:23:25|2009|\n",
      "|     1|   1263|   2.0|2009-12-14 08:22:31|2009|\n",
      "|     1|   1287|   2.0|2009-12-14 08:23:07|2009|\n",
      "|     1|   1293|   2.0|2009-12-14 08:22:28|2009|\n",
      "|     1|   1339|   3.5|2009-12-14 08:22:05|2009|\n",
      "|     1|   1343|   2.0|2009-12-14 08:22:11|2009|\n",
      "|     1|   1371|   2.5|2009-12-14 08:22:15|2009|\n",
      "|     1|   1405|   1.0|2009-12-14 08:23:23|2009|\n",
      "|     1|   1953|   4.0|2009-12-14 08:23:11|2009|\n",
      "|     1|   2105|   4.0|2009-12-14 08:22:19|2009|\n",
      "|     1|   2150|   3.0|2009-12-14 08:23:14|2009|\n",
      "|     1|   2193|   2.0|2009-12-14 08:23:18|2009|\n",
      "|     1|   2294|   2.0|2009-12-14 08:21:48|2009|\n",
      "|     1|   2455|   2.5|2009-12-14 08:21:53|2009|\n",
      "|     1|   2968|   1.0|2009-12-14 08:23:20|2009|\n",
      "|     1|   3671|   3.0|2009-12-14 08:21:57|2009|\n",
      "+------+-------+------+-------------------+----+\n",
      "only showing top 20 rows\n",
      "\n"
     ]
    }
   ],
   "source": [
    "newrating.show()"
   ]
  },
  {
   "cell_type": "code",
   "execution_count": 137,
   "id": "4bbac4db-3705-4fd9-a026-2498c7651abd",
   "metadata": {},
   "outputs": [],
   "source": [
    "# >>> df.join(df2, df.name == df2.name, 'outer').select(\n",
    "# ...     df.name, df2.height).sort(desc(\"name\")).show()\n",
    "\n",
    "\n",
    "# val df = Seq((1, \"John\", 2), (2, \"Alex\", 2), (3, \"Jane\", 1), (4, \"Sarah\", 3))\n",
    "#     .toDF(\"emp_id\", \"emp_name\", \"manager_id\")\n",
    "\n",
    "# val result = df.as(\"e1\")\n",
    "#     .join(df.as(\"e2\"), col(\"e1.manager_id\") === col(\"e2.emp_id\"), \"left\")\n",
    "#     .select(col(\"e1.emp_name\"), col(\"e2.emp_name\").alias(\"manager_name\"))\n",
    "\n",
    "\n",
    "join1=newrating.alias(\"M1\").join(newrating.alias(\"M2\"),'userId')\\\n",
    "                .filter('M2.movieId > M1.movieId')\\\n",
    "                .select(col(\"M1.userId\"),col(\"M1.movieId\").alias(\"m1\"),col(\"M1.rating\").alias(\"r1\"),col(\"M2.movieId\").alias(\"m2\"),col(\"M2.rating\").alias(\"r2\"))\n"
   ]
  },
  {
   "cell_type": "code",
   "execution_count": 138,
   "id": "70725183-22b4-4ea7-b5e9-0b4976785c62",
   "metadata": {},
   "outputs": [
    {
     "name": "stdout",
     "output_type": "stream",
     "text": [
      "+------+----+---+----+---+\n",
      "|userId|  m1| r1|  m2| r2|\n",
      "+------+----+---+----+---+\n",
      "|     1|  31|2.5|3671|3.0|\n",
      "|     1|  31|2.5|2968|1.0|\n",
      "|     1|  31|2.5|2455|2.5|\n",
      "|     1|  31|2.5|2294|2.0|\n",
      "|     1|  31|2.5|2193|2.0|\n",
      "|     1|  31|2.5|2150|3.0|\n",
      "|     1|  31|2.5|2105|4.0|\n",
      "|     1|  31|2.5|1953|4.0|\n",
      "|     1|  31|2.5|1405|1.0|\n",
      "|     1|  31|2.5|1371|2.5|\n",
      "|     1|  31|2.5|1343|2.0|\n",
      "|     1|  31|2.5|1339|3.5|\n",
      "|     1|  31|2.5|1293|2.0|\n",
      "|     1|  31|2.5|1287|2.0|\n",
      "|     1|  31|2.5|1263|2.0|\n",
      "|     1|  31|2.5|1172|4.0|\n",
      "|     1|  31|2.5|1129|2.0|\n",
      "|     1|  31|2.5|1061|3.0|\n",
      "|     1|  31|2.5|1029|3.0|\n",
      "|     1|1029|3.0|3671|3.0|\n",
      "+------+----+---+----+---+\n",
      "only showing top 20 rows\n",
      "\n"
     ]
    }
   ],
   "source": [
    "join1.show()"
   ]
  },
  {
   "cell_type": "code",
   "execution_count": 127,
   "id": "5c66c0e2-4f4e-49af-bbdf-7b9a75c994d4",
   "metadata": {},
   "outputs": [
    {
     "name": "stdout",
     "output_type": "stream",
     "text": [
      "+------+---+---+----+---+\n",
      "|userId| m1| r1|  m2| r2|\n",
      "+------+---+---+----+---+\n",
      "|     1| 31|2.5|3671|3.0|\n",
      "|     1| 31|2.5|2968|1.0|\n",
      "|     1| 31|2.5|2455|2.5|\n",
      "|     1| 31|2.5|2294|2.0|\n",
      "|     1| 31|2.5|2193|2.0|\n",
      "|     1| 31|2.5|2150|3.0|\n",
      "|     1| 31|2.5|2105|4.0|\n",
      "|     1| 31|2.5|1953|4.0|\n",
      "|     1| 31|2.5|1405|1.0|\n",
      "|     1| 31|2.5|1371|2.5|\n",
      "|     1| 31|2.5|1343|2.0|\n",
      "|     1| 31|2.5|1339|3.5|\n",
      "|     1| 31|2.5|1293|2.0|\n",
      "|     1| 31|2.5|1287|2.0|\n",
      "|     1| 31|2.5|1263|2.0|\n",
      "|     1| 31|2.5|1172|4.0|\n",
      "|     1| 31|2.5|1129|2.0|\n",
      "|     1| 31|2.5|1061|3.0|\n",
      "|     1| 31|2.5|1029|3.0|\n",
      "|     1| 31|2.5|  31|2.5|\n",
      "+------+---+---+----+---+\n",
      "only showing top 20 rows\n",
      "\n"
     ]
    }
   ],
   "source": [
    "# join1.filter()"
   ]
  },
  {
   "cell_type": "code",
   "execution_count": 139,
   "id": "b1c6ec52-8283-46e9-9d6d-e059ae958093",
   "metadata": {},
   "outputs": [
    {
     "name": "stdout",
     "output_type": "stream",
     "text": [
      "+------+----+---+----+---+\n",
      "|userId|  m1| r1|  m2| r2|\n",
      "+------+----+---+----+---+\n",
      "|     1|  31|2.5|3671|3.0|\n",
      "|     1|  31|2.5|2968|1.0|\n",
      "|     1|  31|2.5|2455|2.5|\n",
      "|     1|  31|2.5|2294|2.0|\n",
      "|     1|  31|2.5|2193|2.0|\n",
      "|     1|  31|2.5|2150|3.0|\n",
      "|     1|  31|2.5|2105|4.0|\n",
      "|     1|  31|2.5|1953|4.0|\n",
      "|     1|  31|2.5|1405|1.0|\n",
      "|     1|  31|2.5|1371|2.5|\n",
      "|     1|  31|2.5|1343|2.0|\n",
      "|     1|  31|2.5|1339|3.5|\n",
      "|     1|  31|2.5|1293|2.0|\n",
      "|     1|  31|2.5|1287|2.0|\n",
      "|     1|  31|2.5|1263|2.0|\n",
      "|     1|  31|2.5|1172|4.0|\n",
      "|     1|  31|2.5|1129|2.0|\n",
      "|     1|  31|2.5|1061|3.0|\n",
      "|     1|  31|2.5|1029|3.0|\n",
      "|     1|1029|3.0|3671|3.0|\n",
      "+------+----+---+----+---+\n",
      "only showing top 20 rows\n",
      "\n"
     ]
    }
   ],
   "source": [
    "join1.show()"
   ]
  },
  {
   "cell_type": "code",
   "execution_count": 140,
   "id": "c5e64cba-5bfd-4ead-b998-42f22fdd4098",
   "metadata": {},
   "outputs": [
    {
     "name": "stderr",
     "output_type": "stream",
     "text": [
      "24/12/24 16:16:17 WARN RowBasedKeyValueBatch: Calling spill() on RowBasedKeyValueBatch. Will not spill but return 0.\n",
      "24/12/24 16:16:17 WARN RowBasedKeyValueBatch: Calling spill() on RowBasedKeyValueBatch. Will not spill but return 0.\n",
      "24/12/24 16:16:18 WARN RowBasedKeyValueBatch: Calling spill() on RowBasedKeyValueBatch. Will not spill but return 0.\n",
      "24/12/24 16:16:18 WARN RowBasedKeyValueBatch: Calling spill() on RowBasedKeyValueBatch. Will not spill but return 0.\n",
      "24/12/24 16:16:20 WARN RowBasedKeyValueBatch: Calling spill() on RowBasedKeyValueBatch. Will not spill but return 0.\n",
      "24/12/24 16:16:20 WARN RowBasedKeyValueBatch: Calling spill() on RowBasedKeyValueBatch. Will not spill but return 0.\n",
      "[Stage 110:>                                                        (0 + 1) / 1]\r"
     ]
    },
    {
     "name": "stdout",
     "output_type": "stream",
     "text": [
      "+---+---+-----+\n",
      "| m1| m2|count|\n",
      "+---+---+-----+\n",
      "|  1|  5|   33|\n",
      "|  1|  8|    2|\n",
      "|  1| 10|   60|\n",
      "|  1| 12|   14|\n",
      "|  1| 13|    6|\n",
      "|  1| 15|    9|\n",
      "|  1| 16|   50|\n",
      "|  1| 20|    6|\n",
      "|  1| 21|   54|\n",
      "|  1| 22|   19|\n",
      "|  1| 23|   10|\n",
      "|  1| 28|   13|\n",
      "|  1| 30|    7|\n",
      "|  1| 37|    1|\n",
      "|  1| 40|    5|\n",
      "|  1| 42|    6|\n",
      "|  1| 44|   20|\n",
      "|  1| 45|   22|\n",
      "|  1| 46|    6|\n",
      "|  1| 49|    1|\n",
      "+---+---+-----+\n",
      "only showing top 20 rows\n",
      "\n"
     ]
    },
    {
     "name": "stderr",
     "output_type": "stream",
     "text": [
      "                                                                                \r"
     ]
    }
   ],
   "source": [
    "join1.groupBy(['m1','m2']).count().show()"
   ]
  },
  {
   "cell_type": "code",
   "execution_count": 130,
   "id": "653094e4-a32a-4b34-8532-6a835cfe4cdb",
   "metadata": {},
   "outputs": [
    {
     "name": "stderr",
     "output_type": "stream",
     "text": [
      "24/12/24 15:57:54 WARN RowBasedKeyValueBatch: Calling spill() on RowBasedKeyValueBatch. Will not spill but return 0.\n",
      "24/12/24 15:57:54 WARN RowBasedKeyValueBatch: Calling spill() on RowBasedKeyValueBatch. Will not spill but return 0.\n",
      "24/12/24 15:57:57 WARN RowBasedKeyValueBatch: Calling spill() on RowBasedKeyValueBatch. Will not spill but return 0.\n",
      "24/12/24 15:57:57 WARN RowBasedKeyValueBatch: Calling spill() on RowBasedKeyValueBatch. Will not spill but return 0.\n",
      "24/12/24 15:57:59 WARN RowBasedKeyValueBatch: Calling spill() on RowBasedKeyValueBatch. Will not spill but return 0.\n",
      "24/12/24 15:57:59 WARN RowBasedKeyValueBatch: Calling spill() on RowBasedKeyValueBatch. Will not spill but return 0.\n",
      "[Stage 100:>                                                        (0 + 1) / 1]\r"
     ]
    },
    {
     "name": "stdout",
     "output_type": "stream",
     "text": [
      "+---+---+-----+\n",
      "| m1| m2|count|\n",
      "+---+---+-----+\n",
      "|  1|  5|   33|\n",
      "|  1|  8|    2|\n",
      "|  1| 10|   60|\n",
      "|  1| 12|   14|\n",
      "|  1| 13|    6|\n",
      "|  1| 15|    9|\n",
      "|  1| 16|   50|\n",
      "|  1| 20|    6|\n",
      "|  1| 21|   54|\n",
      "|  1| 22|   19|\n",
      "|  1| 23|   10|\n",
      "|  1| 28|   13|\n",
      "|  1| 30|    7|\n",
      "|  1| 37|    1|\n",
      "|  1| 40|    5|\n",
      "|  1| 42|    6|\n",
      "|  1| 44|   20|\n",
      "|  1| 45|   22|\n",
      "|  1| 46|    6|\n",
      "|  1| 49|    1|\n",
      "+---+---+-----+\n",
      "only showing top 20 rows\n",
      "\n"
     ]
    },
    {
     "name": "stderr",
     "output_type": "stream",
     "text": [
      "                                                                                \r"
     ]
    }
   ],
   "source": [
    "join1.groupBy(['m1','m2']).count().show()"
   ]
  },
  {
   "cell_type": "code",
   "execution_count": 113,
   "id": "e0e1a64a-4db8-4845-8d51-c106fb4ce402",
   "metadata": {},
   "outputs": [
    {
     "name": "stdout",
     "output_type": "stream",
     "text": [
      "root\n",
      " |-- userId: integer (nullable = true)\n",
      " |-- movieId: integer (nullable = true)\n",
      " |-- rating: double (nullable = true)\n",
      " |-- TimeStamp: string (nullable = true)\n",
      " |-- Year: integer (nullable = true)\n",
      "\n"
     ]
    }
   ],
   "source": [
    "newrating.printSchema()"
   ]
  },
  {
   "cell_type": "code",
   "execution_count": 126,
   "id": "48eda726-5663-4385-ac21-247b69e6945a",
   "metadata": {},
   "outputs": [
    {
     "name": "stdout",
     "output_type": "stream",
     "text": [
      "+------+-------+------+-------------------+----+\n",
      "|userId|movieId|rating|          TimeStamp|Year|\n",
      "+------+-------+------+-------------------+----+\n",
      "|     1|     31|   2.5|2009-12-14 08:22:24|2009|\n",
      "|     1|   1029|   3.0|2009-12-14 08:22:59|2009|\n",
      "|     1|   1061|   3.0|2009-12-14 08:23:02|2009|\n",
      "|     1|   1129|   2.0|2009-12-14 08:23:05|2009|\n",
      "|     1|   1172|   4.0|2009-12-14 08:23:25|2009|\n",
      "|     1|   1263|   2.0|2009-12-14 08:22:31|2009|\n",
      "|     1|   1287|   2.0|2009-12-14 08:23:07|2009|\n",
      "|     1|   1293|   2.0|2009-12-14 08:22:28|2009|\n",
      "|     1|   1339|   3.5|2009-12-14 08:22:05|2009|\n",
      "|     1|   1343|   2.0|2009-12-14 08:22:11|2009|\n",
      "|     1|   1371|   2.5|2009-12-14 08:22:15|2009|\n",
      "|     1|   1405|   1.0|2009-12-14 08:23:23|2009|\n",
      "|     1|   1953|   4.0|2009-12-14 08:23:11|2009|\n",
      "|     1|   2105|   4.0|2009-12-14 08:22:19|2009|\n",
      "|     1|   2150|   3.0|2009-12-14 08:23:14|2009|\n",
      "|     1|   2193|   2.0|2009-12-14 08:23:18|2009|\n",
      "|     1|   2294|   2.0|2009-12-14 08:21:48|2009|\n",
      "|     1|   2455|   2.5|2009-12-14 08:21:53|2009|\n",
      "|     1|   2968|   1.0|2009-12-14 08:23:20|2009|\n",
      "|     1|   3671|   3.0|2009-12-14 08:21:57|2009|\n",
      "+------+-------+------+-------------------+----+\n",
      "only showing top 20 rows\n",
      "\n"
     ]
    }
   ],
   "source": [
    "newrating.show()"
   ]
  },
  {
   "cell_type": "code",
   "execution_count": null,
   "id": "06007e3b-5f00-4b54-a235-c35af3f08470",
   "metadata": {},
   "outputs": [],
   "source": []
  }
 ],
 "metadata": {
  "kernelspec": {
   "display_name": "Python 3 (ipykernel)",
   "language": "python",
   "name": "python3"
  },
  "language_info": {
   "codemirror_mode": {
    "name": "ipython",
    "version": 3
   },
   "file_extension": ".py",
   "mimetype": "text/x-python",
   "name": "python",
   "nbconvert_exporter": "python",
   "pygments_lexer": "ipython3",
   "version": "3.12.5"
  }
 },
 "nbformat": 4,
 "nbformat_minor": 5
}
